{
 "cells": [
  {
   "cell_type": "code",
   "execution_count": null,
   "id": "161a32b8",
   "metadata": {
    "vscode": {
     "languageId": "plaintext"
    }
   },
   "outputs": [],
   "source": []
  },
  {
   "cell_type": "markdown",
   "id": "d337c4a9",
   "metadata": {},
   "source": [
    "# EXP1: BASELINE\n",
    "\n",
    "- Missing : num -> median , cat -> 'unknown' , outlier -> clip by percentiles (1 - 99%)\n",
    "- Transform/scale : log1p for Skewness features. \n",
    "- Encoding : orinal encoding for categorical \n",
    "- NO FE , PCA , SMOTE \n",
    "- Model : Logistic, Linear/Kernel SVM, Decision Tree, Random Forest, XGBoost, LightGBM, CatBoost, MLP. \n",
    "- CV: 5-fold \n",
    "- metric: ROC-AUC, accuracy , f1-score , recall , precision "
   ]
  },
  {
   "cell_type": "code",
   "execution_count": null,
   "id": "5920df6d",
   "metadata": {
    "vscode": {
     "languageId": "plaintext"
    }
   },
   "outputs": [],
   "source": []
  },
  {
   "cell_type": "markdown",
   "id": "837fd139",
   "metadata": {},
   "source": [
    "# EXP2: Feature Engineering \n",
    "\n",
    "- Add feature :  .... \n",
    "- Keep all step of EXP1 \n",
    "- Model, metrics , CV like EXP1"
   ]
  },
  {
   "cell_type": "markdown",
   "id": "06163993",
   "metadata": {},
   "source": [
    "# EXP 3a : PCA on Numerical \n"
   ]
  },
  {
   "cell_type": "markdown",
   "id": "18075820",
   "metadata": {},
   "source": [
    "# EXP 3b : IV Values  - reduce demisions"
   ]
  },
  {
   "cell_type": "markdown",
   "id": "16325026",
   "metadata": {},
   "source": [
    "# EXP 4a: Feature Engineering and PCA "
   ]
  },
  {
   "cell_type": "markdown",
   "id": "5944eb2f",
   "metadata": {},
   "source": [
    "# EXP 4b : FE and IV values "
   ]
  },
  {
   "cell_type": "markdown",
   "id": "f93e468a",
   "metadata": {},
   "source": [
    "# EXP 4c : FE , PCA , IV values "
   ]
  },
  {
   "cell_type": "markdown",
   "id": "96fd77f1",
   "metadata": {},
   "source": [
    "# EXP 5 : Imbalance "
   ]
  },
  {
   "cell_type": "markdown",
   "id": "a931c639",
   "metadata": {},
   "source": [
    "# EXP 6 : combine ... "
   ]
  },
  {
   "cell_type": "markdown",
   "id": "34a41946",
   "metadata": {},
   "source": [
    "# EXP 7 : HYPER TUNNING PARAMETERS\n"
   ]
  },
  {
   "cell_type": "markdown",
   "id": "2dbd707e",
   "metadata": {},
   "source": []
  }
 ],
 "metadata": {
  "language_info": {
   "name": "python"
  }
 },
 "nbformat": 4,
 "nbformat_minor": 5
}
